{
 "cells": [
  {
   "cell_type": "markdown",
   "id": "319a5518-1f76-45ca-9331-3e3497e590ec",
   "metadata": {
    "editable": true,
    "slideshow": {
     "slide_type": "skip"
    },
    "tags": []
   },
   "source": [
    "<h1>Data Science Tools and Ecosystem</h1>"
   ]
  },
  {
   "cell_type": "markdown",
   "id": "60a8c981-d43a-4cb0-9cbc-6b6a36c74c17",
   "metadata": {
    "editable": true,
    "slideshow": {
     "slide_type": ""
    },
    "tags": []
   },
   "source": [
    "## **Objectives**:\n",
    "\n",
    "* Popular languages in Data Science:\n",
    "* Data Science Tools\n",
    "* Commonly used libraries\n",
    "* Arithmetic expressions in Python.\n",
    "\n",
    "<h2> Author</h2>\n",
    "Federico Javier Albesa\n"
   ]
  },
  {
   "cell_type": "markdown",
   "id": "bc69c5fb-2813-4d29-818e-ce7e352d08af",
   "metadata": {},
   "source": [
    "<h2><i>In this notebook, Data Science Tools and Ecosystem are summarized.</i></h2> "
   ]
  },
  {
   "cell_type": "markdown",
   "id": "3997d8ba-796b-4dc4-9a47-f9354297a52c",
   "metadata": {},
   "source": [
    "<H2> Some of the popular languages that Data Scientists use are: </H2> \n",
    "<ol>\n",
    "    <li>Python</li>\n",
    "    <li>R</li>\n",
    "    <li>SQL</li>\n",
    "    <li>Julia</li>\n",
    "    \n",
    "</ol> "
   ]
  },
  {
   "cell_type": "markdown",
   "id": "ec75c0b2-8ed2-40e9-92c5-33f99597d46f",
   "metadata": {},
   "source": [
    "## Some of the commonly used libraries used by Data Scientists include:\n",
    "\n",
    "1) ggplot\n",
    "2) Plotly\n",
    "3) lattice\n",
    "4) leaflet\n"
   ]
  },
  {
   "cell_type": "markdown",
   "id": "df4e5c00-b28d-413e-8d74-ccea05be5baf",
   "metadata": {},
   "source": [
    "<H2> Some of the popular Data Science Tools are: </H2> \n"
   ]
  },
  {
   "cell_type": "markdown",
   "id": "d0b3c9d5-74bf-44fd-858e-c121e44fc2cc",
   "metadata": {},
   "source": [
    "| Data Science Tools    |\n",
    "| -------- | \n",
    "| RStudio  | \n",
    "| Apache Spark | \n",
    "| TensorFlow | \n"
   ]
  },
  {
   "cell_type": "markdown",
   "id": "fe765952-3b7e-469a-a59a-95de9adbe566",
   "metadata": {},
   "source": [
    "<h3>Below are a few examples of evaluating arithmetic expressions in Python.</h3>\n"
   ]
  },
  {
   "cell_type": "code",
   "execution_count": 4,
   "id": "25867f74-3d04-4be2-95b2-a9fc89633791",
   "metadata": {},
   "outputs": [
    {
     "data": {
      "text/plain": [
       "17"
      ]
     },
     "execution_count": 4,
     "metadata": {},
     "output_type": "execute_result"
    }
   ],
   "source": [
    "#This a simple arithmetic expression to mutiply then add integers\n",
    "\n",
    "(3*4)+5"
   ]
  },
  {
   "cell_type": "code",
   "execution_count": 5,
   "id": "afa7996c-6a86-4d9e-9926-fa4de1bec016",
   "metadata": {},
   "outputs": [
    {
     "data": {
      "text/plain": [
       "3.3333333333333335"
      ]
     },
     "metadata": {},
     "output_type": "display_data"
    }
   ],
   "source": [
    "#This will convert 200 minutes to hours by diving by 60.\n",
    "\n",
    "minutes = 200\n",
    "hours = minutes / 60\n",
    "display (hours)"
   ]
  }
 ],
 "metadata": {
  "kernelspec": {
   "display_name": "Python 3 (ipykernel)",
   "language": "python",
   "name": "python3"
  },
  "language_info": {
   "codemirror_mode": {
    "name": "ipython",
    "version": 3
   },
   "file_extension": ".py",
   "mimetype": "text/x-python",
   "name": "python",
   "nbconvert_exporter": "python",
   "pygments_lexer": "ipython3",
   "version": "3.10.12"
  }
 },
 "nbformat": 4,
 "nbformat_minor": 5
}
