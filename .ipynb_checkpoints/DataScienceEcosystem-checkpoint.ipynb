{
 "cells": [
  {
   "cell_type": "markdown",
   "id": "5d7d84ed-07e9-4264-a978-89a211994c13",
   "metadata": {
    "editable": true,
    "jp-MarkdownHeadingCollapsed": true,
    "slideshow": {
     "slide_type": ""
    },
    "tags": []
   },
   "source": [
    "<H1><strong>Exercise 2: Create markdown cell with title of the notebook</strong></H1> "
   ]
  },
  {
   "cell_type": "markdown",
   "id": "319a5518-1f76-45ca-9331-3e3497e590ec",
   "metadata": {
    "editable": true,
    "slideshow": {
     "slide_type": "skip"
    },
    "tags": []
   },
   "source": [
    "<h1>Data Science Tools and Ecosystem</h1>"
   ]
  },
  {
   "cell_type": "markdown",
   "id": "64c374f6-f8dc-4aa5-8040-47c9e1812a17",
   "metadata": {
    "jp-MarkdownHeadingCollapsed": true
   },
   "source": [
    "# **Exercise 10 - Insert a markdown cell to list Objectives**"
   ]
  },
  {
   "cell_type": "markdown",
   "id": "a72588af-9d22-4b2f-b356-b4a5ab9a2c33",
   "metadata": {},
   "source": [
    "# **Exercise 11 - Create a markdown cell to indicate the Author's name**"
   ]
  },
  {
   "cell_type": "code",
   "execution_count": null,
   "id": "bccb1d6c-6531-47e8-bc0d-ee245f776aa1",
   "metadata": {},
   "outputs": [],
   "source": []
  },
  {
   "cell_type": "markdown",
   "id": "60a8c981-d43a-4cb0-9cbc-6b6a36c74c17",
   "metadata": {
    "editable": true,
    "slideshow": {
     "slide_type": ""
    },
    "tags": []
   },
   "source": [
    "## **Objectives**:\n",
    "\n",
    "* Popular languages in Data Science:\n",
    "* Data Science Tools\n",
    "* Commonly used libraries\n",
    "* Arithmetic expressions in Python.\n",
    "\n",
    "<h2> Author</h2>\n",
    "Federico Javier Albesa\n"
   ]
  },
  {
   "cell_type": "markdown",
   "id": "5f98fb30-ba53-4566-b110-f79905acda32",
   "metadata": {
    "jp-MarkdownHeadingCollapsed": true
   },
   "source": [
    "# **Exercise 3 - Create a markdown cell for an introduction**\n",
    "\n",
    "\n",
    "\n"
   ]
  },
  {
   "cell_type": "markdown",
   "id": "bc69c5fb-2813-4d29-818e-ce7e352d08af",
   "metadata": {},
   "source": [
    "<p>In this notebook, Data Science Tools and Ecosystem are summarized.</p> "
   ]
  },
  {
   "cell_type": "markdown",
   "id": "146bf3a0-922d-4a5c-8387-3869d3acf232",
   "metadata": {
    "jp-MarkdownHeadingCollapsed": true
   },
   "source": [
    "# **Exercise 4 - Create a markdown cell to list data science languages**\n"
   ]
  },
  {
   "cell_type": "markdown",
   "id": "3997d8ba-796b-4dc4-9a47-f9354297a52c",
   "metadata": {},
   "source": [
    "<H2> Some of the popular languages that Data Scientists use are: </H2> \n",
    "<ol>\n",
    "    <li>Python</li>\n",
    "    <li>R</li>\n",
    "    <li>SQL</li>\n",
    "    <li>Julia</li>\n",
    "    \n",
    "</ol> "
   ]
  },
  {
   "cell_type": "markdown",
   "id": "05c7d0a9-77ec-4695-8245-b613ecb7cb93",
   "metadata": {
    "jp-MarkdownHeadingCollapsed": true
   },
   "source": [
    "# **Exercise 5 - Create a markdown cell to list data science libraries**"
   ]
  },
  {
   "cell_type": "markdown",
   "id": "ec75c0b2-8ed2-40e9-92c5-33f99597d46f",
   "metadata": {},
   "source": [
    "## Some of the commonly used libraries used by Data Scientists include:\n",
    "\n",
    "1) ggplot\n",
    "2) Plotly\n",
    "3) lattice\n",
    "4) leaflet\n"
   ]
  },
  {
   "cell_type": "markdown",
   "id": "0451239d-22cc-4e94-9542-177bef787b03",
   "metadata": {},
   "source": [
    "# **Exercise 6 - Create a markdown cell with a table of Data Science tools**\n"
   ]
  },
  {
   "cell_type": "markdown",
   "id": "d0b3c9d5-74bf-44fd-858e-c121e44fc2cc",
   "metadata": {},
   "source": [
    "| Data Science Tools    |\n",
    "| -------- | \n",
    "| RStudio  | \n",
    "| Apache Spark | \n",
    "| TensorFlow | \n"
   ]
  },
  {
   "cell_type": "markdown",
   "id": "0c585497-e4f2-4c6f-ac39-4ba653254fea",
   "metadata": {},
   "source": [
    "# **Exercise 7 - Create a markdown cell introducing arithmetic expression examples**"
   ]
  },
  {
   "cell_type": "markdown",
   "id": "fe765952-3b7e-469a-a59a-95de9adbe566",
   "metadata": {},
   "source": [
    "<h3>Below are a few examples of evaluating arithmetic expressions in Python.</h3>\n"
   ]
  },
  {
   "cell_type": "markdown",
   "id": "e0186dbb-8a20-4965-b00e-a355069667fd",
   "metadata": {},
   "source": [
    "# **Exercise 8 - Create a code cell to multiply and add numbers**"
   ]
  },
  {
   "cell_type": "code",
   "execution_count": 4,
   "id": "25867f74-3d04-4be2-95b2-a9fc89633791",
   "metadata": {},
   "outputs": [
    {
     "data": {
      "text/plain": [
       "17"
      ]
     },
     "execution_count": 4,
     "metadata": {},
     "output_type": "execute_result"
    }
   ],
   "source": [
    "#This a simple arithmetic expression to mutiply then add integers\n",
    "\n",
    "(3*4)+5"
   ]
  },
  {
   "cell_type": "markdown",
   "id": "509dcf2a-8b21-4be4-85d7-3ab53a8a1924",
   "metadata": {
    "jp-MarkdownHeadingCollapsed": true
   },
   "source": [
    "# **Exercise 9 - Create a code cell to convert minutes to hours**"
   ]
  },
  {
   "cell_type": "code",
   "execution_count": 5,
   "id": "afa7996c-6a86-4d9e-9926-fa4de1bec016",
   "metadata": {},
   "outputs": [
    {
     "data": {
      "text/plain": [
       "3.3333333333333335"
      ]
     },
     "metadata": {},
     "output_type": "display_data"
    }
   ],
   "source": [
    "#This will convert 200 minutes to hours by diving by 60.\n",
    "\n",
    "minutes = 200\n",
    "hours = minutes / 60\n",
    "display (hours)"
   ]
  },
  {
   "cell_type": "code",
   "execution_count": null,
   "id": "d99d844e-72fe-4629-ba86-e8795b59b5e9",
   "metadata": {},
   "outputs": [],
   "source": []
  }
 ],
 "metadata": {
  "kernelspec": {
   "display_name": "Python 3 (ipykernel)",
   "language": "python",
   "name": "python3"
  },
  "language_info": {
   "codemirror_mode": {
    "name": "ipython",
    "version": 3
   },
   "file_extension": ".py",
   "mimetype": "text/x-python",
   "name": "python",
   "nbconvert_exporter": "python",
   "pygments_lexer": "ipython3",
   "version": "3.10.12"
  }
 },
 "nbformat": 4,
 "nbformat_minor": 5
}
